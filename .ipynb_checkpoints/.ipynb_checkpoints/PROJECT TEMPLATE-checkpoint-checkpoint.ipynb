{
 "cells": [
  {
   "cell_type": "markdown",
   "id": "17cbf1bb-abd6-4278-a317-2641e9bd5797",
   "metadata": {},
   "source": [
    "**REMINDER:**\n",
    "\n",
    "must submit 2 files:\n",
    "\n",
    "an .html file (File -> Download As -> HTML)\n",
    "an .ipynb file.  \n",
    "This file must be fully reproducible. It must run completely from top to bottom without any additional files."
   ]
  },
  {
   "cell_type": "markdown",
   "id": "b106657e-7ee5-4a3b-840a-8432e6237640",
   "metadata": {},
   "source": [
    "# Topic: We would like to know which \"kinds\" of players are most likely to contribute a large amount of data so that we can target those players in our recruiting efforts."
   ]
  },
  {
   "cell_type": "markdown",
   "id": "61fb4a45-b9da-48dc-9315-c8bc85def8bc",
   "metadata": {},
   "source": [
    "# Title"
   ]
  },
  {
   "cell_type": "markdown",
   "id": "f8c103b9-f9da-4a25-bf59-dcfc06a638f7",
   "metadata": {
    "jp-MarkdownHeadingCollapsed": true
   },
   "source": [
    "# Introduction:\n",
    "* background information \n",
    "* clearly state the ==question you tried to answer==  with your project\n",
    "* identify and fully describe the ==dataset== that was used to answer the question"
   ]
  },
  {
   "cell_type": "markdown",
   "id": "003380dc-ed40-4a54-8e3b-6d78a3390efd",
   "metadata": {},
   "source": [
    "# Methods & Results:\n",
    "* describe the methods you used to perform your analysis from beginning to end that narrates the analysis code.\n",
    "* note: all figures should have a figure number and a legend\n"
   ]
  },
  {
   "cell_type": "code",
   "execution_count": null,
   "id": "cbc59c32-bad3-406c-9e58-cf00320f1bba",
   "metadata": {},
   "outputs": [],
   "source": [
    "#loads data "
   ]
  },
  {
   "cell_type": "code",
   "execution_count": null,
   "id": "9a14ce40-406c-4308-87a9-bbf8197b4af4",
   "metadata": {},
   "outputs": [],
   "source": [
    "#wrangles and cleans the data to the format necessary for the planned analysis"
   ]
  },
  {
   "cell_type": "code",
   "execution_count": null,
   "id": "bd0e2668-bdea-4291-8338-c074c0f4882d",
   "metadata": {},
   "outputs": [],
   "source": [
    "#performs a summary of the data set that is relevant for exploratory data analysis related to the planned analysis "
   ]
  },
  {
   "cell_type": "code",
   "execution_count": null,
   "id": "ef429760-6a6a-434e-b618-a7be22a8ff11",
   "metadata": {},
   "outputs": [],
   "source": [
    "#creates a visualization of the dataset that is relevant for exploratory data analysis related to the planned analysis"
   ]
  },
  {
   "cell_type": "code",
   "execution_count": null,
   "id": "b1b8a293-9a78-444e-ba76-5b1b7c69bf91",
   "metadata": {},
   "outputs": [],
   "source": [
    "#performs the data analysis"
   ]
  },
  {
   "cell_type": "code",
   "execution_count": null,
   "id": "1605f407-c0ca-4bf8-ad28-a0ea8da1a33d",
   "metadata": {},
   "outputs": [],
   "source": [
    "#creates a visualization of the analysis "
   ]
  },
  {
   "cell_type": "markdown",
   "id": "77f52131-a0fd-4123-b9eb-590820cc685f",
   "metadata": {},
   "source": [
    "# Discussion:\n",
    "* summarize what you found\n",
    "* discuss whether this is what you expected to find?\n",
    "* discuss what impact could such findings have?\n",
    "* discuss what future questions could this lead to?"
   ]
  },
  {
   "cell_type": "markdown",
   "id": "837b750d-78f1-4457-a4ca-f11efa2f1519",
   "metadata": {},
   "source": [
    "# References\n",
    "You may include references if necessary, as long as they all have a consistent citation style."
   ]
  },
  {
   "cell_type": "code",
   "execution_count": null,
   "id": "8e986d71-dee2-41b2-a20a-9d32ddb0f9cd",
   "metadata": {},
   "outputs": [],
   "source": []
  }
 ],
 "metadata": {
  "kernelspec": {
   "display_name": "R",
   "language": "R",
   "name": "ir"
  },
  "language_info": {
   "codemirror_mode": "r",
   "file_extension": ".r",
   "mimetype": "text/x-r-source",
   "name": "R",
   "pygments_lexer": "r",
   "version": "4.3.3"
  }
 },
 "nbformat": 4,
 "nbformat_minor": 5
}
